{
 "cells": [
  {
   "cell_type": "markdown",
   "id": "6ea13851-9bd4-48a9-bdf5-f4af9b837dd7",
   "metadata": {},
   "source": [
    "# Задание 1. Создание и изменение массивов"
   ]
  },
  {
   "cell_type": "markdown",
   "id": "2f402914-234a-4d7c-96f1-d56c52fe7ce2",
   "metadata": {},
   "source": [
    "### Создайте массив NumPy размером 3×3, содержащий числа от 1 до 9. Умножьте все элементы массива на 2, а затем замените все элементы больше 10 на 0. Выведите итоговый массив"
   ]
  },
  {
   "cell_type": "code",
   "execution_count": 13,
   "id": "69aa8066-22ed-487c-94c4-838f32ffe477",
   "metadata": {},
   "outputs": [
    {
     "data": {
      "text/plain": [
       "matrix([[ 2,  4,  6],\n",
       "        [ 8, 10, 12],\n",
       "        [14, 16, 18]])"
      ]
     },
     "execution_count": 13,
     "metadata": {},
     "output_type": "execute_result"
    }
   ],
   "source": [
    "import numpy as np\n",
    "arr = np.matrix('1 2 3 ; 4 5 6 ; 7 8 9')\n",
    "result = arr * 2 # Быстрое поэлементное умножение\n",
    "result"
   ]
  },
  {
   "cell_type": "code",
   "execution_count": 15,
   "id": "3d766dfe-c4fa-4f1d-8e10-e1aff429e75a",
   "metadata": {},
   "outputs": [
    {
     "data": {
      "text/plain": [
       "matrix([[ 2,  4,  6],\n",
       "        [ 8, 10,  0],\n",
       "        [ 0,  0,  0]])"
      ]
     },
     "execution_count": 15,
     "metadata": {},
     "output_type": "execute_result"
    }
   ],
   "source": [
    "result[result > 10] = 0\n",
    "result"
   ]
  },
  {
   "cell_type": "markdown",
   "id": "11eca601-19e7-442a-b13a-ed6f9fc1392b",
   "metadata": {},
   "source": [
    "# Задание 2. Работа с булевыми масками"
   ]
  },
  {
   "cell_type": "markdown",
   "id": "32fff7e9-8c76-4170-9ed4-dfe58aa1f984",
   "metadata": {},
   "source": [
    "### Создайте массив NumPy из 20 случайных целых чисел от 1 до 100. Найдите и выведите все элементы, которые делятся на 5 без остатка. Затем замените их на -1 и выведите обновленный массив"
   ]
  },
  {
   "cell_type": "code",
   "execution_count": 73,
   "id": "b238e295-abd2-4ee3-9aac-e913e8c29ab4",
   "metadata": {},
   "outputs": [
    {
     "name": "stdout",
     "output_type": "stream",
     "text": [
      "Массив случайных чисел: [39, 12, 8, 27, 25, 96, 27, 96, 50, 50, 29, 17, 33, 27, 38, 82, 24, 52, 50, 82]\n"
     ]
    }
   ],
   "source": [
    "import random\n",
    "array = [random.randint(1, 100) for _ in range(20)]\n",
    "print(f\"Массив случайных чисел: {array}\")"
   ]
  },
  {
   "cell_type": "code",
   "execution_count": 75,
   "id": "04395c6e-a0bd-45e5-9f88-acdf22ec32f0",
   "metadata": {},
   "outputs": [
    {
     "name": "stdout",
     "output_type": "stream",
     "text": [
      "Элементы, которые делятся на 5 без остатка: \n",
      "25\n",
      "50\n",
      "50\n",
      "50\n",
      "Обновленный массив: [39, 12, 8, 27, -1, 96, 27, 96, -1, -1, 29, 17, 33, 27, 38, 82, 24, 52, -1, 82]\n"
     ]
    }
   ],
   "source": [
    "print(f\"Элементы, которые делятся на 5 без остатка: \")\n",
    "i = 0\n",
    "for i in range(20):\n",
    "    if array[i] % 5 == 0:\n",
    "        five = array[i]\n",
    "        print(five)\n",
    "        array[i] = -1\n",
    "print(f\"Обновленный массив: {array}\")"
   ]
  },
  {
   "cell_type": "markdown",
   "id": "c6690b4f-a5f6-47f8-99db-72cf1525c8e6",
   "metadata": {},
   "source": [
    "# Задание 3. Объединение  разбиение массивов"
   ]
  },
  {
   "cell_type": "markdown",
   "id": "dd702b08-0790-481a-9a3e-32a68d662bca",
   "metadata": {},
   "source": [
    "### Создайте два массива NumPy размером 1×5, заполненные случайными числамиот 0 до 50."
   ]
  },
  {
   "cell_type": "markdown",
   "id": "1b4fcd1d-a7e7-43fc-9b72-820325b054ee",
   "metadata": {},
   "source": [
    "Объедините эти массивы в один двумерный массив (по строкам).<br>\n",
    "Разделите полученный массив на два массива, каждый из которых содержит 5 элементов."
   ]
  },
  {
   "cell_type": "code",
   "execution_count": 169,
   "id": "d4977344-5187-4e84-b215-bd8eaf745a2b",
   "metadata": {},
   "outputs": [
    {
     "name": "stdout",
     "output_type": "stream",
     "text": [
      "Первый массив случайных чисел: [7, 6, 25, 12, 44]\n",
      "Второй массив случайных чисел: [7, 28, 28, 11, 11]\n"
     ]
    }
   ],
   "source": [
    "import random\n",
    "array1 = [random.randint(0, 50) for _ in range(5)]\n",
    "print(f\"Первый массив случайных чисел: {array1}\")\n",
    "array2 = [random.randint(0, 50) for _ in range(5)]\n",
    "print(f\"Второй массив случайных чисел: {array2}\")"
   ]
  },
  {
   "cell_type": "code",
   "execution_count": 173,
   "id": "5869768d-b831-49ff-8c88-672e4dfd065a",
   "metadata": {},
   "outputs": [
    {
     "data": {
      "text/plain": [
       "array([[ 7,  6, 25, 12, 44],\n",
       "       [ 7, 28, 28, 11, 11]])"
      ]
     },
     "execution_count": 173,
     "metadata": {},
     "output_type": "execute_result"
    }
   ],
   "source": [
    "soed = np.vstack((array1, array2))\n",
    "soed"
   ]
  },
  {
   "cell_type": "code",
   "execution_count": 175,
   "id": "3114fc2b-65cb-4bcf-acc0-1b641575179d",
   "metadata": {},
   "outputs": [
    {
     "name": "stdout",
     "output_type": "stream",
     "text": [
      "Первый разделенный массив: [[ 7  6 25 12 44]]\n",
      "Второй разделенный массив: [[ 7 28 28 11 11]]\n"
     ]
    }
   ],
   "source": [
    "raz1, raz2 = np.vsplit(soed, 2)\n",
    "print(f\"Первый разделенный массив: {raz1}\")\n",
    "print(f\"Второй разделенный массив: {raz2}\")"
   ]
  },
  {
   "cell_type": "markdown",
   "id": "f4b36ac9-00d5-4785-a54e-0ce8c53f0be0",
   "metadata": {},
   "source": [
    "# Задание 4. Генерация  работа с линейными последовательностями"
   ]
  },
  {
   "cell_type": "markdown",
   "id": "f7685404-5ec4-496e-8e87-28c4d01be1ff",
   "metadata": {},
   "source": [
    "### Создайте массив из 50 чисел, равномерно распределенных от -10 до 10. Вычислите сумму всех элементов, сумму положительных элементов и сумму отрицательных элементов. Выведите результаты."
   ]
  },
  {
   "cell_type": "code",
   "execution_count": 187,
   "id": "cb78cf17-c53b-4c0d-b4c1-c36b6d0e0423",
   "metadata": {},
   "outputs": [
    {
     "data": {
      "text/plain": [
       "array([-10, -10, -10, -10,  -9,  -9,  -9,  -7,  -7,  -7,  -7,  -6,  -5,\n",
       "        -4,  -4,  -3,  -3,  -3,  -2,  -2,  -2,  -1,  -1,   0,   0,   0,\n",
       "         1,   1,   2,   3,   3,   3,   3,   3,   5,   5,   5,   5,   5,\n",
       "         6,   6,   6,   7,   7,   8,   8,   8,   9,   9,   9])"
      ]
     },
     "execution_count": 187,
     "metadata": {},
     "output_type": "execute_result"
    }
   ],
   "source": [
    "array = np.sort(np.random.randint(-10, 10, 50))\n",
    "array"
   ]
  },
  {
   "cell_type": "code",
   "execution_count": 189,
   "id": "0d717a57-3357-4f77-a8c0-3d4714def711",
   "metadata": {},
   "outputs": [
    {
     "name": "stdout",
     "output_type": "stream",
     "text": [
      "Сумма всех элементов: -4\n",
      "Сумма положительных элементов: 127\n",
      "Сумма отрицательных элементов: -131\n"
     ]
    }
   ],
   "source": [
    "sum_all = np.sum(array)\n",
    "sum_pol = np.sum(array[array > 0])\n",
    "sum_otr = np.sum(array[array < 0])\n",
    "\n",
    "print(f\"Сумма всех элементов: {sum_all}\")\n",
    "print(f\"Сумма положительных элементов: {sum_pol}\")\n",
    "print(f\"Сумма отрицательных элементов: {sum_otr}\")"
   ]
  },
  {
   "cell_type": "markdown",
   "id": "752eb425-7a9b-4731-82cc-553b0ab8b95a",
   "metadata": {},
   "source": [
    "# Задание 5. Работа с диагональными и единичными матрицами"
   ]
  },
  {
   "cell_type": "markdown",
   "id": "6bf2f7ad-a674-4028-8adb-402f5a6acdc3",
   "metadata": {},
   "source": [
    "## Создайте: <br> Единичную матрицу 4х4 <br> Диагональную матрицу размером 4х4 с диагональными элементами [5, 10, 15, 20] (не использовать циклы)"
   ]
  },
  {
   "cell_type": "markdown",
   "id": "0d44fe01-5f66-4047-a40a-b346bb3ac95a",
   "metadata": {},
   "source": [
    "### Найдите сумму всех элементов каждой из этих матриц и сравните результаты."
   ]
  },
  {
   "cell_type": "code",
   "execution_count": 199,
   "id": "cde375f5-b739-4398-acb1-ab0ae9da5581",
   "metadata": {},
   "outputs": [
    {
     "name": "stdout",
     "output_type": "stream",
     "text": [
      "Единичная матрица:\n",
      " [[1. 0. 0. 0.]\n",
      " [0. 1. 0. 0.]\n",
      " [0. 0. 1. 0.]\n",
      " [0. 0. 0. 1.]]\n",
      "Сумма всех элементов: 4.0\n",
      "Диагональная матрица:\n",
      " [[ 5  0  0  0]\n",
      " [ 0 10  0  0]\n",
      " [ 0  0 15  0]\n",
      " [ 0  0  0 20]]\n",
      "Сумма всех элементов: 50\n"
     ]
    }
   ],
   "source": [
    "array_one = np.eye(4)\n",
    "array_diag = np.diag([5, 10, 15, 20])\n",
    "sum_arr1 = np.sum(array_one)\n",
    "sum_arr2 = np.sum(array_diag)\n",
    "print(f\"Единичная матрица:\\n\", array_one)\n",
    "print(f\"Сумма всех элементов: {sum_arr1}\")\n",
    "print(f\"Диагональная матрица:\\n\", array_diag)\n",
    "print(f\"Сумма всех элементов: {sum_arr2}\")"
   ]
  },
  {
   "cell_type": "markdown",
   "id": "cda44ad2-5553-4fe1-adb1-8468c5292a72",
   "metadata": {},
   "source": [
    "# Задание 6. Создание и базовые операции с матрицами"
   ]
  },
  {
   "cell_type": "markdown",
   "id": "73c8b85d-ad6d-42be-b27c-3540b321c9d0",
   "metadata": {},
   "source": [
    "## Создайте две квадратные матрицы NumPy размером 3×3, заполненные случайными целыми числами от 1 до 20. Вычислите и выведите:"
   ]
  },
  {
   "cell_type": "markdown",
   "id": "ca0ed025-7a06-439d-8467-4f552bf84e3f",
   "metadata": {},
   "source": [
    "### Их сумму <br> Их разность <br> Их поэлементное произведение"
   ]
  },
  {
   "cell_type": "code",
   "execution_count": 215,
   "id": "5423e87d-2870-4160-ab1d-776f679b7041",
   "metadata": {},
   "outputs": [
    {
     "name": "stdout",
     "output_type": "stream",
     "text": [
      "Первая матрица:\n",
      " [[ 6  4 16]\n",
      " [ 6  9  1]\n",
      " [ 9  6  3]]\n",
      "Вторая матрица:\n",
      " [[15  7 12]\n",
      " [ 9 15 16]\n",
      " [ 5  7  4]]\n",
      "Сумма матриц:\n",
      " [[21 11 28]\n",
      " [15 24 17]\n",
      " [14 13  7]]\n",
      "Разность матриц:\n",
      " [[ -9  -3   4]\n",
      " [ -3  -6 -15]\n",
      " [  4  -1  -1]]\n",
      "Их поэлементное произведение матриц:\n",
      " [[ 90  28 192]\n",
      " [ 54 135  16]\n",
      " [ 45  42  12]]\n"
     ]
    }
   ],
   "source": [
    "mat1 = np.matrix(np.random.randint(1, 20, (3, 3)))\n",
    "mat2 = np.matrix(np.random.randint(1, 20, (3, 3)))\n",
    "sum_mat = mat1 + mat2\n",
    "raz_mat = mat1 - mat2\n",
    "proiz_mat = np.multiply(mat1, mat2)\n",
    "print(f\"Первая матрица:\\n\", mat1)\n",
    "print(f\"Вторая матрица:\\n\", mat2)\n",
    "print(f\"Сумма матриц:\\n\", sum_mat)\n",
    "print(f\"Разность матриц:\\n\", raz_mat)\n",
    "print(f\"Их поэлементное произведение матриц:\\n\", proiz_mat)"
   ]
  },
  {
   "cell_type": "markdown",
   "id": "cc2d1bd4-85b7-49d3-8d06-7ffb74bcb8e1",
   "metadata": {},
   "source": [
    "# Задание 7. Умножение матриц"
   ]
  },
  {
   "cell_type": "markdown",
   "id": "98932c41-85d9-475e-bb46-6ccee7fc4887",
   "metadata": {},
   "source": [
    "## Создайте две матрицы NumPy:"
   ]
  },
  {
   "cell_type": "markdown",
   "id": "8b8389e4-acfd-46ad-882c-993bb3ee0d98",
   "metadata": {},
   "source": [
    "### <br> Первую размером 2×3, заполненную случайными числами от 1 до 10. <br> Вторую размером 3×2, заполненную случайными числами от 1 до 10. <br>"
   ]
  },
  {
   "cell_type": "markdown",
   "id": "c0343bc8-59b4-4836-9730-d9440338b1a5",
   "metadata": {},
   "source": [
    "## Выполните матричное умножение ( @ или np.dot ) и выведите результат."
   ]
  },
  {
   "cell_type": "code",
   "execution_count": 109,
   "id": "0e0ab782-e485-4385-96f0-760a13c67f67",
   "metadata": {},
   "outputs": [
    {
     "name": "stdout",
     "output_type": "stream",
     "text": [
      "Первая матрица:\n",
      " [[2 1 6]\n",
      " [6 7 4]]\n",
      "Вторая матрица:\n",
      " [[5 3]\n",
      " [1 9]\n",
      " [5 4]]\n",
      "Произведение матриц:\n",
      " [[41 39]\n",
      " [57 97]]\n"
     ]
    }
   ],
   "source": [
    "import numpy as np\n",
    "mat1 = np.matrix(np.random.randint(1, 10, (2, 3)))\n",
    "mat2 = np.matrix(np.random.randint(1, 10, (3, 2)))\n",
    "proiz_mat = mat1 @ mat2\n",
    "print(f\"Первая матрица:\\n\", mat1)\n",
    "print(f\"Вторая матрица:\\n\", mat2)\n",
    "print(f\"Произведение матриц:\\n\", proiz_mat)"
   ]
  },
  {
   "cell_type": "markdown",
   "id": "51beea18-6458-40c6-80af-f6cfb095628c",
   "metadata": {},
   "source": [
    "# Задание 8. Определитель и обратная матрица"
   ]
  },
  {
   "cell_type": "markdown",
   "id": "6e80bcad-223a-45fc-ae20-da8cf168d8a9",
   "metadata": {},
   "source": [
    "## Создайте случайную квадратную матрицу 3×3. Найдите и выведите:"
   ]
  },
  {
   "cell_type": "markdown",
   "id": "a5e30300-889b-428d-93f1-6aa5eccba095",
   "metadata": {},
   "source": [
    "### Определитель этой матрицы <br> Обратную матрицу (если существует, иначе выведите сообщение, что матрица вырождена)"
   ]
  },
  {
   "cell_type": "markdown",
   "id": "b68bb412-6e56-4dd2-a58e-6523bf4fcf7f",
   "metadata": {},
   "source": [
    "## Используйте функции np.linalg.det и np.linalg.inv ."
   ]
  },
  {
   "cell_type": "code",
   "execution_count": 162,
   "id": "e32e2a9c-176d-4c47-847c-41f766c893c6",
   "metadata": {},
   "outputs": [
    {
     "name": "stdout",
     "output_type": "stream",
     "text": [
      "Первоначальная матрица: \n",
      " [[91 76 24]\n",
      " [ 7 51 68]\n",
      " [ 8 42 47]]\n",
      "Обратная матрица: \n",
      " [[ 0.01629682  0.09103497 -0.14003195]\n",
      " [-0.00763359 -0.14503817  0.21374046]\n",
      " [ 0.00404758  0.11411326 -0.14589029]]\n",
      "ее определитль равен: \n",
      " -28165.000000000004\n"
     ]
    }
   ],
   "source": [
    "mat = np.matrix(np.random.randint(1, 100, (3, 3)))\n",
    "opr = np.linalg.det(mat)\n",
    "print(\"Первоначальная матрица: \\n\", mat)\n",
    "if opr == 0:\n",
    "    print(\"Матрица вырождена!\")\n",
    "else:\n",
    "    print(\"Обратная матрица: \\n\", np.linalg.inv(mat))\n",
    "    print(\"ее определитль равен: \\n\", opr)"
   ]
  },
  {
   "cell_type": "markdown",
   "id": "f42c6a6e-4996-40b1-8b78-6319028e525a",
   "metadata": {},
   "source": [
    "# Задание 9. Транспонирование и след матрицы"
   ]
  },
  {
   "cell_type": "markdown",
   "id": "e27656b4-2dd7-416e-b608-5afe573e4dab",
   "metadata": {},
   "source": [
    "## Создайте матрицу NumPy размером 4×4, содержащую случайные целые числа от 1 до 50. Выведите:"
   ]
  },
  {
   "cell_type": "markdown",
   "id": "de46d327-9b97-4a02-917d-56077e7e7fdd",
   "metadata": {},
   "source": [
    "### Исходную матрицу\n",
    "### Транспонированную матрицу\n",
    "### След матрицы (сумму элементов на главной диагонали)"
   ]
  },
  {
   "cell_type": "markdown",
   "id": "611eeaea-c21c-4e92-8361-6308a2ee0fc9",
   "metadata": {},
   "source": [
    "## Используйте np.trace для нахождния следа"
   ]
  },
  {
   "cell_type": "code",
   "execution_count": 169,
   "id": "0ad404db-a3a6-4429-ae7e-819513fa7fec",
   "metadata": {},
   "outputs": [
    {
     "name": "stdout",
     "output_type": "stream",
     "text": [
      "Первоначальная матрица: \n",
      " [[37 39 25  1]\n",
      " [26 22 40 40]\n",
      " [31 29 37 32]\n",
      " [45 24  2 34]]\n",
      "Транспонированную матрица: \n",
      " [[37 26 31 45]\n",
      " [39 22 29 24]\n",
      " [25 40 37  2]\n",
      " [ 1 40 32 34]]\n",
      "След матрицы: \n",
      " 130\n"
     ]
    }
   ],
   "source": [
    "mat = np.matrix(np.random.randint(1, 50, (4, 4)))\n",
    "tran = mat.T\n",
    "trac = np.trace(mat)\n",
    "print(\"Первоначальная матрица: \\n\", mat)\n",
    "print(\"Транспонированную матрица: \\n\", tran)\n",
    "print(\"След матрицы: \\n\", trac)"
   ]
  },
  {
   "cell_type": "markdown",
   "id": "51598d22-ce59-4642-a7ba-7ad1453b1d19",
   "metadata": {},
   "source": [
    "# Задание 10. Системы линейных уравнений "
   ]
  },
  {
   "cell_type": "markdown",
   "id": "c551c524-d9c0-443c-9d7c-7c7987ecb91a",
   "metadata": {},
   "source": [
    "## Решите систему линейных уравнений вида:"
   ]
  },
  {
   "attachments": {
    "aa2879ec-6f66-4e1a-8ccc-76131e8a63d0.png": {
     "image/png": "[encoded data removed]"
    }
   },
   "cell_type": "markdown",
   "id": "9c2f67fe-ea00-4246-b738-dd3fa253de11",
   "metadata": {},
   "source": [
    "![Screenshot_8.png](attachment:aa2879ec-6f66-4e1a-8ccc-76131e8a63d0.png)"
   ]
  },
  {
   "cell_type": "markdown",
   "id": "cdd08d49-d7a8-4c77-986b-1ef0a6ade33d",
   "metadata": {},
   "source": [
    "## Используйте матричное представление Ax = B , где A – матрица коэффициентов,x – вектор неизвестных, B – вектор правой части. Решите систему с помощью np.linalg.solve и выведите результат."
   ]
  },
  {
   "cell_type": "code",
   "execution_count": 198,
   "id": "a6aa0d1e-0252-4d6a-b92f-c4296f924156",
   "metadata": {},
   "outputs": [
    {
     "name": "stdout",
     "output_type": "stream",
     "text": [
      "Решение системы: \n",
      " [1.63963964 0.57657658 0.00900901]\n"
     ]
    }
   ],
   "source": [
    "A = np.array([\n",
    "    [2, 3, -1],\n",
    "    [4, -1, 2],\n",
    "    [-3, 5, 4]\n",
    "])\n",
    "B = np.array([5, 6, -2])\n",
    "x = np.linalg.solve(A, B)\n",
    "print(\"Решение системы: \\n\", x)"
   ]
  },
  {
   "cell_type": "markdown",
   "id": "e755d03a-0af4-467d-a583-dc49390eaea8",
   "metadata": {},
   "source": [
    "# Задание 11. Индивидуальное задание"
   ]
  },
  {
   "cell_type": "markdown",
   "id": "20687867-3380-45da-b4c8-f5f8d168e461",
   "metadata": {},
   "source": [
    "## Решите индивидуальное задание согласно варианта. Каждое задание предусматривает построение системы линейных уравнений. Решите полученную систему уравнений с использованием библиотеки NumPy. Для решения системы используйте метод Крамера и матричный метод. Сравните полученные результаты, с результатами, полученными с помощью np.linalg.solve "
   ]
  },
  {
   "cell_type": "markdown",
   "id": "4d3ff1ac-d7c1-48ac-ab3f-1a72202ec2a1",
   "metadata": {},
   "source": [
    "## Финансовая стратегия инвестора\n",
    "### Инвестор вложил деньги в три компании. В первую компанию он вложил в два раза больше, чем во вторую, а в третью — на 10 000 рублей больше, чем во вторую. Общая сумма инвестиций составила 300 000 рублей. Сколько денег вложено в каждую компанию?"
   ]
  },
  {
   "cell_type": "markdown",
   "id": "7c6c3f73-9893-48de-9a2c-a6025a19f043",
   "metadata": {},
   "source": [
    "x - первая комания, y - вторая компания, z - третья компания"
   ]
  },
  {
   "cell_type": "markdown",
   "id": "b1772455-1984-4cf4-86de-13e16377c7cd",
   "metadata": {},
   "source": [
    "x = 2y <br>\n",
    "z = y + 10000 <br>\n",
    "x + y + z = 300000"
   ]
  },
  {
   "attachments": {
    "4e922d37-e902-4ca8-8040-29fa49fee12e.png": {
     "image/png": "[encoded data removed]"
    }
   },
   "cell_type": "markdown",
   "id": "f6ca6c1c-6a67-4628-9161-1d804f816966",
   "metadata": {},
   "source": [
    "![Screenshot_3.png](attachment:4e922d37-e902-4ca8-8040-29fa49fee12e.png)"
   ]
  },
  {
   "cell_type": "code",
   "execution_count": 222,
   "id": "247dd3e9-fe5f-4965-8007-da61e0123865",
   "metadata": {},
   "outputs": [
    {
     "name": "stdout",
     "output_type": "stream",
     "text": [
      "Решение методом Крамера:\n",
      "\n",
      "Первая компания =  144999.99999999997\n",
      "Вторая компания =  72499.99999999997\n",
      "Третья компания =  82499.99999999988\n"
     ]
    }
   ],
   "source": [
    "arr1 = np.array([\n",
    "    [-1, 2, 0],\n",
    "    [0, 1, -1],\n",
    "    [1, 1, 1]\n",
    "])\n",
    "arr2 = np.array([0, -10000, 300000])\n",
    "detA1 = np.linalg.det(arr1)\n",
    "x = arr1.copy()\n",
    "x[:, 0] = arr2\n",
    "detX = np.linalg.det(x)\n",
    "y = arr1.copy()\n",
    "y[:, 1] = arr2\n",
    "detY = np.linalg.det(y)\n",
    "z = arr1.copy()\n",
    "z[:, 2] = arr2\n",
    "detZ = np.linalg.det(z)\n",
    "q = detX / detA1\n",
    "w = detY / detA1\n",
    "e = detZ / detA1\n",
    "print(\"Решение методом Крамера:\\n\")\n",
    "print(\"Первая компания = \", q)\n",
    "print(\"Вторая компания = \", w)\n",
    "print(\"Третья компания = \", e)"
   ]
  },
  {
   "cell_type": "code",
   "execution_count": 224,
   "id": "1a8e07f9-d256-4c28-8c33-dae2c5a35085",
   "metadata": {},
   "outputs": [
    {
     "name": "stdout",
     "output_type": "stream",
     "text": [
      "Решение матричным методом:\n",
      "\n",
      "Первая компания =  145000.0\n",
      "Вторая компания =  72500.0\n",
      "Третья компания =  82500.0\n"
     ]
    }
   ],
   "source": [
    "matr = np.linalg.inv(arr1) @ arr2\n",
    "print(\"Решение матричным методом:\\n\")\n",
    "print(\"Первая компания = \", matr[0])\n",
    "print(\"Вторая компания = \", matr[1])\n",
    "print(\"Третья компания = \", matr[2])"
   ]
  },
  {
   "cell_type": "code",
   "execution_count": 226,
   "id": "27fa2c0e-e4a7-4140-bebc-e5f215815f57",
   "metadata": {},
   "outputs": [
    {
     "name": "stdout",
     "output_type": "stream",
     "text": [
      "Решение с помощью np.linalg.solve:\n",
      "\n",
      "Первая компания =  145000.0\n",
      "Вторая компания =  72500.0\n",
      "Третья компания =  82500.0\n"
     ]
    }
   ],
   "source": [
    "lin = np.linalg.solve(arr1, arr2)\n",
    "print(\"Решение с помощью np.linalg.solve:\\n\")\n",
    "print(\"Первая компания = \", lin[0])\n",
    "print(\"Вторая компания = \", lin[1])\n",
    "print(\"Третья компания = \", lin[2])"
   ]
  },
  {
   "cell_type": "code",
   "execution_count": null,
   "id": "f9eac746-20ca-481f-b491-4150319f16f6",
   "metadata": {},
   "outputs": [],
   "source": []
  }
 ],
 "metadata": {
  "kernelspec": {
   "display_name": "Python [conda env:base] *",
   "language": "python",
   "name": "conda-base-py"
  },
  "language_info": {
   "codemirror_mode": {
    "name": "ipython",
    "version": 3
   },
   "file_extension": ".py",
   "mimetype": "text/x-python",
   "name": "python",
   "nbconvert_exporter": "python",
   "pygments_lexer": "ipython3",
   "version": "3.12.7"
  }
 },
 "nbformat": 4,
 "nbformat_minor": 5
}
